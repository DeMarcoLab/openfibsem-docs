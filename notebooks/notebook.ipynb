{
 "cells": [
  {
   "cell_type": "markdown",
   "metadata": {},
   "source": [
    "# Documentation Examples"
   ]
  },
  {
   "cell_type": "code",
   "execution_count": null,
   "metadata": {},
   "outputs": [],
   "source": []
  },
  {
   "cell_type": "markdown",
   "metadata": {},
   "source": [
    "## Microscope API"
   ]
  },
  {
   "cell_type": "code",
   "execution_count": null,
   "metadata": {},
   "outputs": [],
   "source": [
    "# connecting to the microscope\n",
    "from fibsem import utils\n",
    "\n",
    "# connect, setup session use default configuration\n",
    "microscope, settings = utils.setup_session()"
   ]
  },
  {
   "cell_type": "code",
   "execution_count": null,
   "metadata": {},
   "outputs": [],
   "source": [
    "# apply current configuration\n",
    "microscope.apply_configuration()"
   ]
  },
  {
   "cell_type": "code",
   "execution_count": null,
   "metadata": {},
   "outputs": [],
   "source": [
    "from fibsem.structures import BeamType\n",
    "\n",
    "# pump the system\n",
    "microscope.pump()\n",
    "\n",
    "# turn on electron beam\n",
    "microscope.turn_on(BeamType.ELECTRON)\n",
    "\n",
    "# turn on ion beam \n",
    "microscope.turn_on(BeamType.ION)\n",
    "\n",
    "# home the stage\n",
    "microscope.home()"
   ]
  },
  {
   "cell_type": "code",
   "execution_count": null,
   "metadata": {},
   "outputs": [],
   "source": [
    "# check if electron beam is on\n",
    "electron_on = microscope.get(\"on\", BeamType.ELECTRON)\n",
    "print(f\"Electron Beam: {electron_on}\")\n",
    "\n",
    "\n",
    "# check chamber state\n",
    "chamber_state = microscope.get(\"chamber_state\")\n",
    "print(f\"Chamber State: {chamber_state}\")\n",
    "\n",
    "# get column tilt of ion\n",
    "ion_column_tilt = microscope.get(\"column_tilt\", BeamType.ION)\n",
    "print(f\"Ion Column Tilt: {ion_column_tilt}\")"
   ]
  },
  {
   "cell_type": "markdown",
   "metadata": {},
   "source": [
    "## Imaging API\n"
   ]
  },
  {
   "cell_type": "code",
   "execution_count": null,
   "metadata": {},
   "outputs": [],
   "source": [
    "# connecting to the microscope\n",
    "from fibsem import utils, acquire\n",
    "from fibsem.structures import BeamType\n",
    "import matplotlib.pyplot as plt\n",
    "\n",
    "\n",
    "# connect, setup session use default configuration\n",
    "microscope, settings = utils.setup_session()"
   ]
  },
  {
   "cell_type": "code",
   "execution_count": null,
   "metadata": {},
   "outputs": [],
   "source": [
    "# print the image settings\n",
    "print(settings.image)\n",
    "\n",
    "\n",
    "# change image settings\n",
    "settings.image.dwell_time = 2e-6  # set the dwell time to 2us\n",
    "settings.image.save = True        # automatically save the image (note: this overwrite existing data, check the filename!!)\n"
   ]
  },
  {
   "cell_type": "code",
   "execution_count": null,
   "metadata": {},
   "outputs": [],
   "source": [
    "from fibsem import acquire\n",
    "import matplotlib.pyplot as plt\n",
    "\n",
    "# acquire image\n",
    "eb_image = acquire.acquire_image(microscope, settings.image)\n",
    "\n",
    "# change settings, reacquire\n",
    "settings.image.hfw = 400e-6             # set the hfov to 400um\n",
    "settings.image.beam_type = BeamType.ION # set the imaging to ion beam\n",
    "ib_image = acquire.acquire_image(microscope, settings.image)\n",
    "\n",
    "# plot\n",
    "fig, ax = plt.subplots(1, 2, figsize=(15, 7))\n",
    "ax[0].imshow(eb_image.data, cmap=\"gray\")\n",
    "ax[0].set_title(\"Electron Beam\")\n",
    "ax[1].imshow(ib_image.data, cmap=\"gray\")\n",
    "ax[1].set_title(\"Ion Beam\")\n",
    "plt.show()"
   ]
  },
  {
   "cell_type": "code",
   "execution_count": null,
   "metadata": {},
   "outputs": [],
   "source": [
    "## Image Metadata\n",
    "from pprint import pprint\n",
    "\n",
    "# get the image settings used\n",
    "image_settings = eb_image.metadata.image_settings\n",
    "print(f\"Image Settings: {image_settings}\")\n",
    "\n",
    "# access the stage position\n",
    "stage_position = eb_image.metadata.microscope_state.stage_position\n",
    "print(f\"Stage Position: {stage_position}\")\n",
    "\n",
    "# get the electron detector used for imaging\n",
    "detector = eb_image.metadata.microscope_state.electron_detector\n",
    "print(f\"Electron Detector: {detector}\")\n",
    "\n",
    "# pretty print the metadata (note: this is a lot of data)\n",
    "pprint(eb_image.metadata.to_dict())"
   ]
  },
  {
   "cell_type": "code",
   "execution_count": null,
   "metadata": {},
   "outputs": [],
   "source": [
    "from fibsem.structures import FibsemImage\n",
    "\n",
    "# save the image\n",
    "path = \"data/test_electron_image.tif\"\n",
    "eb_image.save(path)\n",
    "\n",
    "# load the image\n",
    "loaded_image = FibsemImage.load(path)\n",
    "print(f\"metadata: {loaded_image.metadata}\")\n",
    "\n",
    "# plot both\n",
    "fig, ax = plt.subplots(1, 2, figsize=(15, 7))\n",
    "ax[0].imshow(eb_image.data, cmap=\"gray\")\n",
    "ax[0].set_title(\"Original Image\")\n",
    "ax[1].imshow(loaded_image.data, cmap=\"gray\")\n",
    "ax[1].set_title(\"Loaded Image\")\n",
    "plt.show()\n"
   ]
  },
  {
   "cell_type": "code",
   "execution_count": null,
   "metadata": {},
   "outputs": [],
   "source": [
    "# acquire chamber image\n",
    "image = microscope.acquire_chamber_image()\n",
    "\n",
    "plt.imshow(image.data, cmap=\"gray\")\n",
    "plt.title(\"Chamber Image\")\n",
    "plt.show()"
   ]
  },
  {
   "cell_type": "markdown",
   "metadata": {},
   "source": [
    "## Stage Movement API\n"
   ]
  },
  {
   "cell_type": "code",
   "execution_count": null,
   "metadata": {},
   "outputs": [],
   "source": [
    "# connecting to the microscope\n",
    "from fibsem import utils, acquire\n",
    "from fibsem.structures import BeamType, FibsemStagePosition\n",
    "import matplotlib.pyplot as plt\n",
    "\n",
    "\n",
    "# connect, setup session use default configuration\n",
    "microscope, settings = utils.setup_session()"
   ]
  },
  {
   "cell_type": "code",
   "execution_count": null,
   "metadata": {},
   "outputs": [],
   "source": [
    "# get stage position\n",
    "stage_position = microscope.get_stage_position()\n",
    "stage_position.name = \"my-position-01\"\n",
    "\n",
    "# go to stage position\n",
    "microscope.safe_absolute_stage_movement(stage_position)\n",
    "\n",
    "# save stage position (saves to fibsem/config/positions.yaml by default, can be specified)\n",
    "utils.save_positions(stage_position)\n",
    "\n"
   ]
  },
  {
   "cell_type": "code",
   "execution_count": null,
   "metadata": {},
   "outputs": [],
   "source": [
    "# NOTE: this will move from the current position, and only change rotation and tilt. It is recommended you move under the beam before hand.\n",
    "\n",
    "# move flat to the electron\n",
    "microscope.move_flat_to_beam(BeamType.ELECTRON)\n",
    "\n",
    "# move flat to the ion\n",
    "microscope.move_flat_to_beam(BeamType.ION)"
   ]
  },
  {
   "cell_type": "code",
   "execution_count": null,
   "metadata": {},
   "outputs": [],
   "source": [
    "# store microscope state\n",
    "state = microscope.get_microscope_state()\n",
    "\n",
    "# restore microscope state\n",
    "microscope.set_microscope_state(state)\n"
   ]
  },
  {
   "cell_type": "code",
   "execution_count": null,
   "metadata": {},
   "outputs": [],
   "source": [
    "\n",
    "# get the initial position\n",
    "start_position = microscope.get_stage_position()\n",
    "\n",
    "# relative move (dx=20e-6, y=20e-6)\n",
    "stage_position = FibsemStagePosition(x=20e-6, y=20e-6)\n",
    "microscope.move_stage_relative(stage_position)\n",
    "\n",
    "# absolute move\n",
    "microscope.safe_absolute_stage_movement(stage_position)\n"
   ]
  },
  {
   "cell_type": "code",
   "execution_count": null,
   "metadata": {},
   "outputs": [],
   "source": [
    "# NOTE: it recommended that you make the beams coincident before this to see the effect\n",
    "# move flat to electron\n",
    "microscope.move_flat_to_beam(BeamType.ELECTRON)\n",
    "\n",
    "# stable move\n",
    "microscope.stable_move(dx=20e-6, dy=20e-6, beam_type=BeamType.ELECTRON)\n"
   ]
  },
  {
   "cell_type": "code",
   "execution_count": null,
   "metadata": {},
   "outputs": [],
   "source": [
    "# vertical move\n",
    "microscope.vertical_move(dx=0, dy=10e-6)\n"
   ]
  },
  {
   "cell_type": "markdown",
   "metadata": {},
   "source": [
    "## Milling API"
   ]
  },
  {
   "cell_type": "code",
   "execution_count": null,
   "metadata": {},
   "outputs": [],
   "source": [
    "# connecting to the microscope\n",
    "from fibsem import utils, acquire, milling, patterning\n",
    "from fibsem.structures import BeamType\n",
    "import matplotlib.pyplot as plt\n",
    "\n",
    "# connect, setup session use default configuration\n",
    "microscope, settings = utils.setup_session()"
   ]
  },
  {
   "cell_type": "code",
   "execution_count": null,
   "metadata": {},
   "outputs": [],
   "source": []
  },
  {
   "cell_type": "code",
   "execution_count": null,
   "metadata": {},
   "outputs": [],
   "source": []
  },
  {
   "cell_type": "code",
   "execution_count": null,
   "metadata": {},
   "outputs": [],
   "source": []
  },
  {
   "cell_type": "markdown",
   "metadata": {},
   "source": [
    "## Manipulator API\n"
   ]
  },
  {
   "cell_type": "code",
   "execution_count": null,
   "metadata": {},
   "outputs": [],
   "source": [
    "# insert manipulator\n",
    "\n",
    "from fibsem import utils, acquire\n",
    "from fibsem.structures import BeamType\n",
    "from matplotlib import pyplot as plt\n",
    "\n",
    "# NOTE: recommend that you move your stage flat + down before running this script\n",
    "\n",
    "# conect to microscope\n",
    "microscope, settings = utils.setup_session()\n",
    "\n",
    "# insert manipulator\n",
    "microscope.insert_manipulator(name=\"PARK\")\n",
    "\n",
    "# take reference images\n",
    "settings.image.hfw = 400e-6\n",
    "eb_image, ib_image = acquire.take_reference_images(microscope, settings.image)\n",
    "\n",
    "# plot\n",
    "fig, ax = plt.subplots(1, 2, figsize=(10, 5))\n",
    "ax[0].imshow(eb_image.data, cmap=\"gray\")\n",
    "ax[1].imshow(ib_image.data, cmap=\"gray\")\n",
    "plt.show()\n"
   ]
  },
  {
   "cell_type": "code",
   "execution_count": null,
   "metadata": {},
   "outputs": [],
   "source": [
    "# retract manipulator\n",
    "microscope.retract_manipulator()\n",
    "\n",
    "# take reference images\n",
    "settings.image.hfw = 400e-6\n",
    "eb_image, ib_image = acquire.take_reference_images(microscope, settings.image)\n",
    "\n",
    "# plot\n",
    "fig, ax = plt.subplots(1, 2, figsize=(10, 5))\n",
    "ax[0].imshow(eb_image.data, cmap=\"gray\")\n",
    "ax[1].imshow(ib_image.data, cmap=\"gray\")\n",
    "plt.show()"
   ]
  },
  {
   "cell_type": "code",
   "execution_count": null,
   "metadata": {},
   "outputs": [],
   "source": [
    "# corrected manipulator movements\n",
    "\n",
    "# insert manipulator\n",
    "microscope.insert_manipulator(name=\"PARK\")\n",
    "\n",
    "# take reference images\n",
    "settings.image.hfw = 400e-6\n",
    "eb_image, ib_image = acquire.take_reference_images(microscope, settings.image)\n",
    "\n",
    "# plot\n",
    "fig, ax = plt.subplots(1, 2, figsize=(15, 5))\n",
    "plt.suptitle(f\"Manipulator Inserted\")\n",
    "ax[0].imshow(eb_image.data, cmap=\"gray\")\n",
    "ax[1].imshow(ib_image.data, cmap=\"gray\")\n",
    "plt.show()\n",
    "\n",
    "# move manipulator down (ION)\n",
    "microscope.move_manipulator_corrected(dx=0, dy=-20e-6, beam_type=BeamType.ION)\n",
    "\n",
    "# take reference images\n",
    "settings.image.hfw = 400e-6\n",
    "eb_image, ib_image = acquire.take_reference_images(microscope, settings.image)\n",
    "\n",
    "# plot\n",
    "fig, ax = plt.subplots(1, 2, figsize=(15, 5))\n",
    "plt.suptitle(f\"Manipulator Moved (ION)\")\n",
    "ax[0].imshow(eb_image.data, cmap=\"gray\")\n",
    "ax[1].imshow(ib_image.data, cmap=\"gray\")\n",
    "plt.show()\n",
    "\n",
    "# move manipulator in x, y (ELECTRON)\n",
    "microscope.move_manipulator_corrected(dx=10e-6, dy=-10e-6, beam_type=BeamType.ION)\n",
    "\n",
    "# take reference images\n",
    "settings.image.hfw = 400e-6\n",
    "eb_image, ib_image = acquire.take_reference_images(microscope, settings.image)\n",
    "\n",
    "# plot\n",
    "fig, ax = plt.subplots(1, 2, figsize=(15, 5))\n",
    "plt.suptitle(f\"Manipulator Moved (ELECTRON)\")\n",
    "ax[0].imshow(eb_image.data, cmap=\"gray\")\n",
    "ax[1].imshow(ib_image.data, cmap=\"gray\")\n",
    "plt.show()"
   ]
  },
  {
   "cell_type": "code",
   "execution_count": null,
   "metadata": {},
   "outputs": [],
   "source": [
    "\n",
    "# move to offset position\n",
    "from fibsem.structures import FibsemManipulatorPosition\n",
    "\n",
    "# set position offset\n",
    "position_offset = FibsemManipulatorPosition(z=10e-6, coordinate_system=\"RAW\")\n",
    "\n",
    "# move manipulator to offset position (z=10e-6 above EUCENTRIC)\n",
    "microscope.move_manipulator_to_position_offset(position_offset, name=\"EUCENTRIC\")\n",
    "\n",
    "# take reference images\n",
    "settings.image.hfw = 150e-6\n",
    "eb_image, ib_image = acquire.take_reference_images(microscope, settings.image)\n",
    "\n",
    "# plot\n",
    "fig, ax = plt.subplots(1, 2, figsize=(15, 5))\n",
    "plt.suptitle(f\"Manipulator Moved To Offset\")\n",
    "ax[0].imshow(eb_image.data, cmap=\"gray\")\n",
    "ax[1].imshow(ib_image.data, cmap=\"gray\")\n",
    "plt.show()"
   ]
  },
  {
   "cell_type": "markdown",
   "metadata": {},
   "source": [
    "## GIS - Cryo Deposition"
   ]
  },
  {
   "cell_type": "code",
   "execution_count": null,
   "metadata": {},
   "outputs": [],
   "source": [
    "from fibsem import gis, utils\n",
    "\n",
    "# connect to microscope\n",
    "microscope, settings = utils.setup_session()\n",
    "\n",
    "# save current position (optional)\n",
    "position = microscope.get_stage_position()\n",
    "position.name = \"cryo-deposition-grid-01\"\n",
    "utils.save_positions([position])\n",
    "\n",
    "# example cryo deposition protocol\n",
    "gis_protocol = {\n",
    "    \"application_file\": \"cryo_Pt_dep\",          # gis application file\n",
    "    \"gas\": \"Pt cryo\",                           # gis gas\n",
    "    \"position\": \"cryo\",                         # gis position \n",
    "    \"hfw\": 3.0e-05 ,                            # image field width\n",
    "    \"length\": 7.0e-06,                          # pattern length\n",
    "    \"beam_current\": 1.0e-8,                     # beam current\n",
    "    \"time\": 30.0,                               # deposition time\n",
    "}\n",
    "\n",
    "# run cryo deposition\n",
    "gis.cryo_deposition(microscope, \n",
    "                    protocol=gis_protocol, \n",
    "                    name=\"cryo-deposition-grid-01\")     # specifying name is optional\n",
    "                                                        # if not specified, current position is used\n"
   ]
  },
  {
   "cell_type": "markdown",
   "metadata": {},
   "source": [
    "## Segmentation (Machine Learning)"
   ]
  },
  {
   "cell_type": "code",
   "execution_count": null,
   "metadata": {},
   "outputs": [],
   "source": [
    "%load_ext autoreload\n",
    "%autoreload 2\n",
    "\n",
    "from fibsem.segmentation.model import load_model\n",
    "from fibsem.segmentation.utils import plot_segmentations\n",
    "from fibsem.structures import FibsemImage\n",
    "\n",
    "\n",
    "# load model\n",
    "model = load_model(\"autolamella-mega-20240107.pt\")\n",
    "\n",
    "# load image (or acquire from microscope)\n",
    "image = FibsemImage.load(\"data/test_image.tif\")\n",
    "\n",
    "# model inference (rgb = True to auto convert to rgb)\n",
    "mask = model.inference(image.data, rgb=False)\n",
    "mask = mask[0]\n",
    "\n",
    "# plot segmentation\n",
    "fig = plot_segmentations(image.data, mask, alpha=0.5)\n"
   ]
  },
  {
   "cell_type": "code",
   "execution_count": null,
   "metadata": {},
   "outputs": [],
   "source": [
    "%load_ext autoreload\n",
    "%autoreload 2\n",
    "\n",
    "from fibsem.segmentation.model import load_model\n",
    "from fibsem.structures import FibsemImage\n",
    "from fibsem.segmentation.utils import plot_segmentations\n",
    "import glob\n",
    "\n",
    "# load model\n",
    "model = load_model(\"autolamella-serial-liftout-20240107.pt\")\n",
    "\n",
    "# load data\n",
    "filenames = sorted(glob.glob(\"data/example/0*.tif\"))\n",
    "\n",
    "masks = []\n",
    "images = []\n",
    "\n",
    "for fname in filenames:\n",
    "    image = FibsemImage.load(fname)\n",
    "\n",
    "    mask = model.inference(image.data, rgb=False)\n",
    "    mask = mask[0]\n",
    "\n",
    "    masks.append(mask)\n",
    "    images.append(image)\n",
    "\n",
    "fig = plot_segmentations(images, masks, alpha=0.5)\n"
   ]
  },
  {
   "cell_type": "markdown",
   "metadata": {},
   "source": [
    "## Feature Detection"
   ]
  },
  {
   "cell_type": "code",
   "execution_count": null,
   "metadata": {},
   "outputs": [],
   "source": [
    "### Example: Multiple Feature Detection\n",
    "\n",
    "%load_ext autoreload\n",
    "%autoreload 2\n",
    "\n",
    "from fibsem.detection import detection\n",
    "from fibsem.segmentation.model import load_model\n",
    "from fibsem.structures import FibsemImage\n",
    "from fibsem.detection.detection import DetectedFeatures, NeedleTip, LamellaRightEdge\n",
    "\n",
    "# load model\n",
    "model = load_model(\"autolamella-mega-20240107.pt\")\n",
    "\n",
    "# load image (or acquire from microscope)\n",
    "image = FibsemImage.load(\"data/test_image.tif\")\n",
    "\n",
    "features= [NeedleTip(), LamellaRightEdge()]\n",
    "\n",
    "# detect features (also runs segmentation inference)\n",
    "det: DetectedFeatures = detection.detect_features(\n",
    "    image= image, \n",
    "    model= model, \n",
    "    features = features,\n",
    "    pixelsize = 25e-9,      # note: this should be from image.metadata.pixelsize typically\n",
    "    filter=True, \n",
    "    point= None\n",
    ")\n",
    "\n",
    "# plot detections\n",
    "fig = detection.plot_detection(det)\n"
   ]
  },
  {
   "cell_type": "code",
   "execution_count": null,
   "metadata": {},
   "outputs": [],
   "source": [
    "### Example: Multiple Feature Detection\n",
    "%load_ext autoreload\n",
    "%autoreload 2\n",
    "\n",
    "from fibsem.detection import detection\n",
    "from fibsem.segmentation.model import load_model\n",
    "from fibsem.structures import FibsemImage\n",
    "from fibsem.detection.detection import DetectedFeatures, NeedleTip, LamellaRightEdge\n",
    "import glob\n",
    "\n",
    "# load model\n",
    "model = load_model(\"autolamella-mega-20240107.pt\")\n",
    "\n",
    "# load data\n",
    "filenames = glob.glob(\"data/example/ml*.tif\")\n",
    "features = [detection.LamellaCentre()]\n",
    "\n",
    "dets = []\n",
    "for fname in filenames:\n",
    "\n",
    "    image = FibsemImage.load(fname)\n",
    "\n",
    "    # detect features (also runs segmentation inference)\n",
    "    det: DetectedFeatures = detection.detect_features(\n",
    "        image= image, \n",
    "        model= model, \n",
    "        features = features,\n",
    "        pixelsize = image.metadata.pixel_size,\n",
    "        filter=False, \n",
    "        point= None\n",
    "    )\n",
    "\n",
    "    dets.append(det)\n",
    "\n",
    "# plot detections\n",
    "detection.plot_detections(dets)"
   ]
  },
  {
   "cell_type": "code",
   "execution_count": null,
   "metadata": {},
   "outputs": [],
   "source": [
    "%load_ext autoreload\n",
    "%autoreload 2\n",
    "\n",
    "from fibsem.detection import detection\n",
    "from fibsem.segmentation.model import load_model\n",
    "from fibsem.structures import FibsemImage\n",
    "from fibsem.detection.detection import DetectedFeatures, NeedleTip, LamellaRightEdge\n",
    "import glob\n",
    "\n",
    "# load model\n",
    "model = load_model(\"autolamella-serial-liftout-20240107.pt\")\n",
    "\n",
    "# load data\n",
    "filenames = sorted(glob.glob(\"data/example/0*.tif\"))\n",
    "features_list = [\n",
    "    [detection.CopperAdapterBottomEdge(), detection.VolumeBlockCentre() ],\n",
    "    [detection.VolumeBlockBottomEdge(), detection.LandingGridCentre()],\n",
    "    [detection.VolumeBlockBottomEdge(), detection.LamellaTopEdge()],\n",
    "    [detection.VolumeBlockBottomEdge(), detection.LamellaCentre(), detection.NeedleTipBottom(), detection.CopperAdapterBottomEdge()]\n",
    "\n",
    "]   \n",
    "\n",
    "dets = []\n",
    "for fname, features in zip(filenames, features_list):\n",
    "\n",
    "    image = FibsemImage.load(fname)\n",
    "\n",
    "    # detect features (also runs segmentation inference)\n",
    "    det: DetectedFeatures = detection.detect_features(\n",
    "        image= image, \n",
    "        model= model, \n",
    "        features = features,\n",
    "        filter= False,\n",
    "    )\n",
    "\n",
    "    dets.append(det)\n",
    "\n",
    "# plot detections\n",
    "detection.plot_detections(dets)"
   ]
  },
  {
   "cell_type": "code",
   "execution_count": null,
   "metadata": {},
   "outputs": [],
   "source": [
    "%load_ext autoreload\n",
    "%autoreload 2\n",
    "\n",
    "from fibsem.detection import detection\n",
    "from fibsem.segmentation.model import load_model\n",
    "from fibsem.structures import FibsemImage\n",
    "from fibsem.detection.detection import DetectedFeatures, NeedleTip, LamellaRightEdge\n",
    "import glob\n",
    "\n",
    "# load model\n",
    "model = load_model(\"autolamella-mega-20240107.pt\")\n",
    "\n",
    "# load data\n",
    "filenames = sorted(glob.glob(\"data/example/dm*.tif\"))\n",
    "features_list = [\n",
    "\n",
    "    [detection.NeedleTip(), detection.LamellaRightEdge(), detection.LandingPost()],\n",
    "    [detection.NeedleTip(), detection.LamellaLeftEdge()],\n",
    "    [detection.NeedleTip(), detection.LamellaRightEdge()],\n",
    "    [detection.NeedleTip(), detection.LamellaRightEdge(), detection.LandingPost()],\n",
    "]   \n",
    "\n",
    "dets = []\n",
    "for fname, features in zip(filenames, features_list):\n",
    "\n",
    "    image = FibsemImage.load(fname)\n",
    "\n",
    "    # detect features (also runs segmentation inference)\n",
    "    det: DetectedFeatures = detection.detect_features(\n",
    "        image= image, \n",
    "        model= model, \n",
    "        features = features,\n",
    "        filter= True,\n",
    "    )\n",
    "\n",
    "    dets.append(det)\n",
    "\n",
    "# plot detections\n",
    "fig = detection.plot_detections(dets)"
   ]
  },
  {
   "cell_type": "code",
   "execution_count": null,
   "metadata": {},
   "outputs": [],
   "source": [
    "## Example: Get Objects API\n",
    "\n",
    "from fibsem.detection import detection \n",
    "from fibsem.segmentation.model import load_model\n",
    "from fibsem.structures import FibsemImage \n",
    "\n",
    "# load image\n",
    "image = FibsemImage.load(\"data/test_image.tif\")\n",
    "\n",
    "# load mega model\n",
    "model = load_model(\"autolamella-mega-20240107.pt\")\n",
    "\n",
    "# run model inference\n",
    "mask = model.inference(image.data, rgb=False)\n",
    "mask = mask[0]\n",
    "\n",
    "# get all objects\n",
    "objects = detection.get_objects(mask)\n",
    "\n",
    "# plot bounding boxes\n",
    "fig = detection.plot_bounding_boxes(image.data, mask, objects)\n"
   ]
  },
  {
   "cell_type": "code",
   "execution_count": null,
   "metadata": {},
   "outputs": [],
   "source": [
    "## Example: Get Objects API\n",
    "\n",
    "from fibsem.detection import detection \n",
    "from fibsem.segmentation.model import load_model\n",
    "from fibsem.structures import FibsemImage \n",
    "import glob\n",
    "\n",
    "filenames = sorted(glob.glob(\"data/example/0*.tif\"))\n",
    "\n",
    "\n",
    "# load mega model\n",
    "model = load_model(\"autolamella-serial-liftout-20240107.pt\")\n",
    "\n",
    "figs = []\n",
    "for fname in filenames:\n",
    "\n",
    "    # load image\n",
    "    image = FibsemImage.load(fname)\n",
    "\n",
    "\n",
    "    # run model inference\n",
    "    mask = model.inference(image.data, rgb=False)\n",
    "    mask = mask[0]\n",
    "\n",
    "    # get all objects\n",
    "    objects = detection.get_objects(mask, min_pixels=500)\n",
    "\n",
    "    # plot bounding boxes\n",
    "    fig = detection.plot_bounding_boxes(image.data, mask, objects)\n",
    "\n"
   ]
  },
  {
   "cell_type": "code",
   "execution_count": null,
   "metadata": {},
   "outputs": [],
   "source": []
  },
  {
   "cell_type": "markdown",
   "metadata": {},
   "source": []
  }
 ],
 "metadata": {
  "kernelspec": {
   "display_name": "fibsem",
   "language": "python",
   "name": "python3"
  },
  "language_info": {
   "codemirror_mode": {
    "name": "ipython",
    "version": 3
   },
   "file_extension": ".py",
   "mimetype": "text/x-python",
   "name": "python",
   "nbconvert_exporter": "python",
   "pygments_lexer": "ipython3",
   "version": "3.9.18"
  }
 },
 "nbformat": 4,
 "nbformat_minor": 2
}
